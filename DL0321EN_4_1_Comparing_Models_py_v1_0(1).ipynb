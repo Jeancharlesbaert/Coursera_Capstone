{
  "nbformat": 4,
  "nbformat_minor": 0,
  "metadata": {
    "kernelspec": {
      "display_name": "Python",
      "language": "python",
      "name": "conda-env-python-py"
    },
    "language_info": {
      "codemirror_mode": {
        "name": "ipython",
        "version": 3
      },
      "file_extension": ".py",
      "mimetype": "text/x-python",
      "name": "python",
      "nbconvert_exporter": "python",
      "pygments_lexer": "ipython3",
      "version": "3.6.7"
    },
    "colab": {
      "name": "DL0321EN-4-1-Comparing-Models-py-v1.0(1).ipynb",
      "provenance": [],
      "collapsed_sections": [],
      "include_colab_link": true
    }
  },
  "cells": [
    {
      "cell_type": "markdown",
      "metadata": {
        "id": "view-in-github",
        "colab_type": "text"
      },
      "source": [
        "<a href=\"https://colab.research.google.com/github/Jeancharlesbaert/Coursera_Capstone/blob/master/DL0321EN_4_1_Comparing_Models_py_v1_0(1).ipynb\" target=\"_parent\"><img src=\"https://colab.research.google.com/assets/colab-badge.svg\" alt=\"Open In Colab\"/></a>"
      ]
    },
    {
      "cell_type": "markdown",
      "metadata": {
        "button": false,
        "deletable": true,
        "new_sheet": false,
        "run_control": {
          "read_only": false
        },
        "id": "v-Ass2t_95P9",
        "colab_type": "text"
      },
      "source": [
        "<a href=\"https://cognitiveclass.ai\"><img src = \"https://s3-api.us-geo.objectstorage.softlayer.net/cf-courses-data/CognitiveClass/Logos/organization_logo/organization_logo.png\" width = 400> </a>\n",
        "\n",
        "<h1 align=center><font size = 5>Peer Review Final Assignment</font></h1>"
      ]
    },
    {
      "cell_type": "markdown",
      "metadata": {
        "button": false,
        "deletable": true,
        "new_sheet": false,
        "run_control": {
          "read_only": false
        },
        "id": "0JH3RZ2s95P_",
        "colab_type": "text"
      },
      "source": [
        "## Introduction\n"
      ]
    },
    {
      "cell_type": "markdown",
      "metadata": {
        "button": false,
        "deletable": true,
        "new_sheet": false,
        "run_control": {
          "read_only": false
        },
        "id": "3soH9laN95QC",
        "colab_type": "text"
      },
      "source": [
        "In this lab, you will build an image classifier using the VGG16 pre-trained model, and you will evaluate it and compare its performance to the model we built in the last module using the ResNet50 pre-trained model. Good luck!"
      ]
    },
    {
      "cell_type": "markdown",
      "metadata": {
        "button": false,
        "deletable": true,
        "new_sheet": false,
        "run_control": {
          "read_only": false
        },
        "id": "R3roiZmK95QD",
        "colab_type": "text"
      },
      "source": [
        "## Table of Contents\n",
        "\n",
        "<div class=\"alert alert-block alert-info\" style=\"margin-top: 20px\">\n",
        "\n",
        "<font size = 3>    \n",
        "\n",
        "1. <a href=\"#item41\">Download Data \n",
        "2. <a href=\"#item42\">Part 1</a>\n",
        "3. <a href=\"#item43\">Part 2</a>  \n",
        "4. <a href=\"#item44\">Part 3</a>  \n",
        "\n",
        "</font>\n",
        "    \n",
        "</div>"
      ]
    },
    {
      "cell_type": "markdown",
      "metadata": {
        "button": false,
        "deletable": true,
        "new_sheet": false,
        "run_control": {
          "read_only": false
        },
        "id": "tMLRa3Pg95QF",
        "colab_type": "text"
      },
      "source": [
        "   "
      ]
    },
    {
      "cell_type": "markdown",
      "metadata": {
        "id": "tWrAopzm95QI",
        "colab_type": "text"
      },
      "source": [
        "<a id=\"item41\"></a>"
      ]
    },
    {
      "cell_type": "markdown",
      "metadata": {
        "id": "fxu32NuY95QL",
        "colab_type": "text"
      },
      "source": [
        "## Download Data"
      ]
    },
    {
      "cell_type": "markdown",
      "metadata": {
        "id": "tP0FGtIe95QP",
        "colab_type": "text"
      },
      "source": [
        "Use the <code>wget</code> command to download the data for this assignment from here: https://s3-api.us-geo.objectstorage.softlayer.net/cf-courses-data/CognitiveClass/DL0321EN/data/concrete_data_week4.zip"
      ]
    },
    {
      "cell_type": "markdown",
      "metadata": {
        "id": "2BFUoUvG95QR",
        "colab_type": "text"
      },
      "source": [
        "Use the following cells to download the data."
      ]
    },
    {
      "cell_type": "code",
      "metadata": {
        "id": "nJVOB4lW95QT",
        "colab_type": "code",
        "colab": {
          "base_uri": "https://localhost:8080/",
          "height": 237
        },
        "outputId": "ebc44622-4b6d-457c-aa1f-ef6becdf5a1d"
      },
      "source": [
        "#get the data\n",
        "!wget https://s3-api.us-geo.objectstorage.softlayer.net/cf-courses-data/CognitiveClass/DL0321EN/data/concrete_data_week4.zip"
      ],
      "execution_count": null,
      "outputs": [
        {
          "output_type": "stream",
          "text": [
            "--2020-07-08 05:24:53--  https://s3-api.us-geo.objectstorage.softlayer.net/cf-courses-data/CognitiveClass/DL0321EN/data/concrete_data_week4.zip\n",
            "Resolving s3-api.us-geo.objectstorage.softlayer.net (s3-api.us-geo.objectstorage.softlayer.net)... 67.228.254.196\n",
            "Connecting to s3-api.us-geo.objectstorage.softlayer.net (s3-api.us-geo.objectstorage.softlayer.net)|67.228.254.196|:443... connected.\n",
            "HTTP request sent, awaiting response... 200 OK\n",
            "Length: 261483817 (249M) [application/zip]\n",
            "Saving to: ‘concrete_data_week4.zip.1’\n",
            "\n",
            "concrete_data_week4 100%[===================>] 249.37M  28.9MB/s    in 8.5s    \n",
            "\n",
            "2020-07-08 05:25:02 (29.4 MB/s) - ‘concrete_data_week4.zip.1’ saved [261483817/261483817]\n",
            "\n"
          ],
          "name": "stdout"
        }
      ]
    },
    {
      "cell_type": "code",
      "metadata": {
        "id": "R5-aruKy95Qb",
        "colab_type": "code",
        "colab": {
          "base_uri": "https://localhost:8080/",
          "height": 53
        },
        "outputId": "723594ee-29e6-40fc-fe9e-6cb675b89d66"
      },
      "source": [
        "!unzip concrete_data_week4.zip"
      ],
      "execution_count": null,
      "outputs": [
        {
          "output_type": "stream",
          "text": [
            "Archive:  concrete_data_week4.zip\n",
            "replace concrete_data_week4/valid/positive/16679_1.jpg? [y]es, [n]o, [A]ll, [N]one, [r]ename: "
          ],
          "name": "stdout"
        }
      ]
    },
    {
      "cell_type": "markdown",
      "metadata": {
        "id": "k2FgF6Oq95Qh",
        "colab_type": "text"
      },
      "source": [
        "After you unzip the data, you fill find the data has already been divided into a train, validation, and test sets."
      ]
    },
    {
      "cell_type": "markdown",
      "metadata": {
        "id": "r-B8KMaK95Qj",
        "colab_type": "text"
      },
      "source": [
        "  "
      ]
    },
    {
      "cell_type": "markdown",
      "metadata": {
        "button": false,
        "deletable": true,
        "new_sheet": false,
        "run_control": {
          "read_only": false
        },
        "id": "u0LhqRp595Qj",
        "colab_type": "text"
      },
      "source": [
        "<a id=\"item42\"></a>"
      ]
    },
    {
      "cell_type": "markdown",
      "metadata": {
        "id": "dqCAx9FF95Ql",
        "colab_type": "text"
      },
      "source": [
        "## Part 1"
      ]
    },
    {
      "cell_type": "markdown",
      "metadata": {
        "id": "ufI4L7T095Ql",
        "colab_type": "text"
      },
      "source": [
        "In this part, you will design a classifier using the VGG16 pre-trained model. Just like the ResNet50 model, you can import the model <code>VGG16</code> from <code>keras.applications</code>."
      ]
    },
    {
      "cell_type": "markdown",
      "metadata": {
        "id": "g5P6lBDp95Qn",
        "colab_type": "text"
      },
      "source": [
        "You will essentially build your classifier as follows:\n",
        "1. Import libraries, modules, and packages you will need. Make sure to import the *preprocess_input* function from <code>keras.applications.vgg16</code>.\n",
        "2. Use a batch size of 100 images for both training and validation.\n",
        "3. Construct an ImageDataGenerator for the training set and another one for the validation set. VGG16 was originally trained on 224 × 224 images, so make sure to address that when defining the ImageDataGenerator instances.\n",
        "4. Create a sequential model using Keras. Add VGG16 model to it and dense layer.\n",
        "5. Compile the mode using the adam optimizer and the categorical_crossentropy loss function.\n",
        "6. Fit the model on the augmented data using the ImageDataGenerators."
      ]
    },
    {
      "cell_type": "markdown",
      "metadata": {
        "id": "nR5UOA0795Qp",
        "colab_type": "text"
      },
      "source": [
        "Use the following cells to create your classifier."
      ]
    },
    {
      "cell_type": "markdown",
      "metadata": {
        "id": "96iuvJt6CIRl",
        "colab_type": "text"
      },
      "source": [
        "1 . IMPORT"
      ]
    },
    {
      "cell_type": "code",
      "metadata": {
        "id": "THnFsriQ95Qq",
        "colab_type": "code",
        "colab": {}
      },
      "source": [
        "# import the imageDataGenerator\n",
        "from keras.preprocessing.image import ImageDataGenerator"
      ],
      "execution_count": null,
      "outputs": []
    },
    {
      "cell_type": "code",
      "metadata": {
        "id": "MGwigrsD95Qw",
        "colab_type": "code",
        "colab": {}
      },
      "source": [
        "# downlaad keras library\n",
        "import keras\n",
        "from keras.models import Sequential\n",
        "from keras.layers import Dense"
      ],
      "execution_count": null,
      "outputs": []
    },
    {
      "cell_type": "code",
      "metadata": {
        "scrolled": true,
        "id": "LY-r-NyA95Q1",
        "colab_type": "code",
        "colab": {}
      },
      "source": [
        "# download VGG!6\n",
        "from keras.applications import VGG16\n",
        "from keras.applications.vgg16 import preprocess_input"
      ],
      "execution_count": null,
      "outputs": []
    },
    {
      "cell_type": "code",
      "metadata": {
        "id": "EmkEHQvJ95Q6",
        "colab_type": "code",
        "colab": {}
      },
      "source": [
        "import os\n",
        "import numpy as np\n",
        "import matplotlib.pyplot as plt\n",
        "\n",
        "import keras\n",
        "from keras.preprocessing.image import ImageDataGenerator"
      ],
      "execution_count": null,
      "outputs": []
    },
    {
      "cell_type": "code",
      "metadata": {
        "id": "5o8d9BMR95Q_",
        "colab_type": "code",
        "colab": {}
      },
      "source": [
        "dataset_dir = './concrete_data_week4'"
      ],
      "execution_count": null,
      "outputs": []
    },
    {
      "cell_type": "code",
      "metadata": {
        "id": "SffJ6GBw95RF",
        "colab_type": "code",
        "colab": {
          "base_uri": "https://localhost:8080/",
          "height": 35
        },
        "outputId": "00535ef0-ee04-4883-f862-f37b44cddda0"
      },
      "source": [
        "!ls ./concrete_data_week4"
      ],
      "execution_count": null,
      "outputs": [
        {
          "output_type": "stream",
          "text": [
            "test  train  valid\n"
          ],
          "name": "stdout"
        }
      ]
    },
    {
      "cell_type": "markdown",
      "metadata": {
        "id": "FpKM5xfaC1Qj",
        "colab_type": "text"
      },
      "source": [
        "2. Use batch size of 100 images for training and validation"
      ]
    },
    {
      "cell_type": "code",
      "metadata": {
        "id": "0hmh2aX795RK",
        "colab_type": "code",
        "colab": {}
      },
      "source": [
        "num_classes = 2\n",
        "\n",
        "image_resize = 224\n",
        "\n",
        "batch_size_training = 100\n",
        "batch_size_validation = 100"
      ],
      "execution_count": null,
      "outputs": []
    },
    {
      "cell_type": "markdown",
      "metadata": {
        "id": "YAcMngKmDD2m",
        "colab_type": "text"
      },
      "source": [
        "3.Create ImageDataGenerator for training and validation set"
      ]
    },
    {
      "cell_type": "code",
      "metadata": {
        "id": "8OZP6_Ln95RR",
        "colab_type": "code",
        "colab": {}
      },
      "source": [
        "dataset_dir = './concrete_data_week4'"
      ],
      "execution_count": null,
      "outputs": []
    },
    {
      "cell_type": "code",
      "metadata": {
        "id": "RdMyqQWM95RW",
        "colab_type": "code",
        "colab": {}
      },
      "source": [
        "data_generator = ImageDataGenerator(\n",
        "    preprocessing_function=preprocess_input,\n",
        ")"
      ],
      "execution_count": null,
      "outputs": []
    },
    {
      "cell_type": "code",
      "metadata": {
        "id": "9Z6v0RgS95Ra",
        "colab_type": "code",
        "colab": {
          "base_uri": "https://localhost:8080/",
          "height": 35
        },
        "outputId": "7f0c41ca-08c6-48e2-c734-24b7c937d6e2"
      },
      "source": [
        "train_generator = data_generator.flow_from_directory(\n",
        "    'concrete_data_week4/train',\n",
        "    target_size=(image_resize, image_resize),\n",
        "    batch_size=batch_size_training,\n",
        "    class_mode='categorical')"
      ],
      "execution_count": null,
      "outputs": [
        {
          "output_type": "stream",
          "text": [
            "Found 30001 images belonging to 2 classes.\n"
          ],
          "name": "stdout"
        }
      ]
    },
    {
      "cell_type": "code",
      "metadata": {
        "id": "xVhsvjDZ95Rg",
        "colab_type": "code",
        "colab": {
          "base_uri": "https://localhost:8080/",
          "height": 35
        },
        "outputId": "cee2754e-f57e-48b3-fd8c-06044a93a8e0"
      },
      "source": [
        "validation_generator = data_generator.flow_from_directory(\n",
        "    'concrete_data_week4/valid',\n",
        "    target_size=(image_resize, image_resize),\n",
        "    batch_size=batch_size_validation,\n",
        "    class_mode='categorical')"
      ],
      "execution_count": null,
      "outputs": [
        {
          "output_type": "stream",
          "text": [
            "Found 9501 images belonging to 2 classes.\n"
          ],
          "name": "stdout"
        }
      ]
    },
    {
      "cell_type": "markdown",
      "metadata": {
        "id": "Yh8YotDv95Rl",
        "colab_type": "text"
      },
      "source": [
        "<a id=\"item43\"></a>"
      ]
    },
    {
      "cell_type": "markdown",
      "metadata": {
        "id": "NVXixrAoD-kU",
        "colab_type": "text"
      },
      "source": [
        "4.create a sequential model"
      ]
    },
    {
      "cell_type": "code",
      "metadata": {
        "id": "zCXPCnG6D3wV",
        "colab_type": "code",
        "colab": {}
      },
      "source": [
        "model = Sequential()"
      ],
      "execution_count": null,
      "outputs": []
    },
    {
      "cell_type": "code",
      "metadata": {
        "id": "sG9RQKUBEJ-f",
        "colab_type": "code",
        "colab": {}
      },
      "source": [
        "model.add(VGG16(\n",
        "    include_top=False,\n",
        "    pooling='avg',\n",
        "    weights='imagenet',\n",
        "    ))"
      ],
      "execution_count": null,
      "outputs": []
    },
    {
      "cell_type": "code",
      "metadata": {
        "id": "dFhk2P_DEKXj",
        "colab_type": "code",
        "colab": {}
      },
      "source": [
        "model.add(Dense(num_classes, activation='softmax'))"
      ],
      "execution_count": null,
      "outputs": []
    },
    {
      "cell_type": "code",
      "metadata": {
        "id": "ygPCjzNjEOj3",
        "colab_type": "code",
        "colab": {
          "base_uri": "https://localhost:8080/",
          "height": 53
        },
        "outputId": "5325294b-789b-4b4a-c83f-3f907538d47d"
      },
      "source": [
        "model.layers"
      ],
      "execution_count": null,
      "outputs": [
        {
          "output_type": "execute_result",
          "data": {
            "text/plain": [
              "[<keras.engine.training.Model at 0x7f47d56bb978>,\n",
              " <keras.layers.core.Dense at 0x7f47d6724588>]"
            ]
          },
          "metadata": {
            "tags": []
          },
          "execution_count": 28
        }
      ]
    },
    {
      "cell_type": "code",
      "metadata": {
        "id": "G4de6l2bEOwc",
        "colab_type": "code",
        "colab": {
          "base_uri": "https://localhost:8080/",
          "height": 380
        },
        "outputId": "3de1f8b0-1ed2-4b11-f838-9367daff957a"
      },
      "source": [
        "model.layers[0].layers"
      ],
      "execution_count": null,
      "outputs": [
        {
          "output_type": "execute_result",
          "data": {
            "text/plain": [
              "[<keras.engine.input_layer.InputLayer at 0x7f47d6724668>,\n",
              " <keras.layers.convolutional.Conv2D at 0x7f481a834710>,\n",
              " <keras.layers.convolutional.Conv2D at 0x7f47d6642b00>,\n",
              " <keras.layers.pooling.MaxPooling2D at 0x7f481a85b278>,\n",
              " <keras.layers.convolutional.Conv2D at 0x7f47d6724f60>,\n",
              " <keras.layers.convolutional.Conv2D at 0x7f47d2cf0710>,\n",
              " <keras.layers.pooling.MaxPooling2D at 0x7f47d677b2e8>,\n",
              " <keras.layers.convolutional.Conv2D at 0x7f47d677b128>,\n",
              " <keras.layers.convolutional.Conv2D at 0x7f47d677be48>,\n",
              " <keras.layers.convolutional.Conv2D at 0x7f47d6782a20>,\n",
              " <keras.layers.pooling.MaxPooling2D at 0x7f47d67874e0>,\n",
              " <keras.layers.convolutional.Conv2D at 0x7f47d67872e8>,\n",
              " <keras.layers.convolutional.Conv2D at 0x7f47d6787f60>,\n",
              " <keras.layers.convolutional.Conv2D at 0x7f47d678dc18>,\n",
              " <keras.layers.pooling.MaxPooling2D at 0x7f47d67936d8>,\n",
              " <keras.layers.convolutional.Conv2D at 0x7f47d67934e0>,\n",
              " <keras.layers.convolutional.Conv2D at 0x7f47d6794a58>,\n",
              " <keras.layers.convolutional.Conv2D at 0x7f47d6794e10>,\n",
              " <keras.layers.pooling.MaxPooling2D at 0x7f47d56bb8d0>,\n",
              " <keras.layers.pooling.GlobalAveragePooling2D at 0x7f47d56bb6d8>]"
            ]
          },
          "metadata": {
            "tags": []
          },
          "execution_count": 29
        }
      ]
    },
    {
      "cell_type": "code",
      "metadata": {
        "id": "zWJ9wUJwEO8n",
        "colab_type": "code",
        "colab": {}
      },
      "source": [
        "model.layers[0].trainable = False"
      ],
      "execution_count": null,
      "outputs": []
    },
    {
      "cell_type": "code",
      "metadata": {
        "id": "qsKmYOkjEPJK",
        "colab_type": "code",
        "colab": {
          "base_uri": "https://localhost:8080/",
          "height": 235
        },
        "outputId": "80e17311-36be-4d9b-8d8e-34d011218da4"
      },
      "source": [
        "model.summary()"
      ],
      "execution_count": null,
      "outputs": [
        {
          "output_type": "stream",
          "text": [
            "Model: \"sequential_1\"\n",
            "_________________________________________________________________\n",
            "Layer (type)                 Output Shape              Param #   \n",
            "=================================================================\n",
            "vgg16 (Model)                (None, 512)               14714688  \n",
            "_________________________________________________________________\n",
            "dense_1 (Dense)              (None, 2)                 1026      \n",
            "=================================================================\n",
            "Total params: 14,715,714\n",
            "Trainable params: 1,026\n",
            "Non-trainable params: 14,714,688\n",
            "_________________________________________________________________\n"
          ],
          "name": "stdout"
        }
      ]
    },
    {
      "cell_type": "markdown",
      "metadata": {
        "id": "l8OFu-BNE80C",
        "colab_type": "text"
      },
      "source": [
        "5.compile model using Adam"
      ]
    },
    {
      "cell_type": "code",
      "metadata": {
        "id": "vBEn9L-uE1kf",
        "colab_type": "code",
        "colab": {}
      },
      "source": [
        "model.compile(optimizer='adam', loss='categorical_crossentropy', metrics=['accuracy'])"
      ],
      "execution_count": null,
      "outputs": []
    },
    {
      "cell_type": "markdown",
      "metadata": {
        "id": "H_fmovVdFE1E",
        "colab_type": "text"
      },
      "source": [
        "6.fit the model"
      ]
    },
    {
      "cell_type": "code",
      "metadata": {
        "id": "vIHHUtmGE12_",
        "colab_type": "code",
        "colab": {}
      },
      "source": [
        "steps_per_epoch_training = len(train_generator)\n",
        "steps_per_epoch_validation = len(validation_generator)\n",
        "num_epochs = 2"
      ],
      "execution_count": null,
      "outputs": []
    },
    {
      "cell_type": "code",
      "metadata": {
        "id": "OnHkQ1IAE2Oj",
        "colab_type": "code",
        "colab": {
          "base_uri": "https://localhost:8080/",
          "height": 110
        },
        "outputId": "b89e5e0c-8a25-420f-9cf6-4c014a4e81b3"
      },
      "source": [
        "fit_history = model.fit_generator(\n",
        "    train_generator,\n",
        "    steps_per_epoch=steps_per_epoch_training,\n",
        "    epochs=num_epochs,\n",
        "    validation_data=validation_generator,\n",
        "    validation_steps=steps_per_epoch_validation,\n",
        "    verbose=1,\n",
        ")"
      ],
      "execution_count": null,
      "outputs": [
        {
          "output_type": "stream",
          "text": [
            "Epoch 1/2\n",
            "301/301 [==============================] - 20003s 66s/step - loss: 0.0438 - accuracy: 0.9908 - val_loss: 0.0027 - val_accuracy: 0.9967\n",
            "Epoch 2/2\n",
            "300/301 [============================>.] - ETA: 50s - loss: 0.0131 - accuracy: 0.9967 "
          ],
          "name": "stdout"
        }
      ]
    },
    {
      "cell_type": "code",
      "metadata": {
        "id": "l7gURDAQFTis",
        "colab_type": "code",
        "colab": {}
      },
      "source": [
        "model.save('classifier_VGG16_model.h5')"
      ],
      "execution_count": null,
      "outputs": []
    },
    {
      "cell_type": "markdown",
      "metadata": {
        "id": "ageu5rkG95Rm",
        "colab_type": "text"
      },
      "source": [
        "## Part 2"
      ]
    },
    {
      "cell_type": "markdown",
      "metadata": {
        "id": "p9GfP2qb95Rn",
        "colab_type": "text"
      },
      "source": [
        "In this part, you will evaluate your deep learning models on a test data. For this part, you will need to do the following:\n",
        "\n",
        "1. Load your saved model that was built using the ResNet50 model. \n",
        "2. Construct an ImageDataGenerator for the test set. For this ImageDataGenerator instance, you only need to pass the directory of the test images, target size, and the **shuffle** parameter and set it to False.\n",
        "3. Use the **evaluate_generator** method to evaluate your models on the test data, by passing the above ImageDataGenerator as an argument. You can learn more about **evaluate_generator** [here](https://keras.io/models/sequential/).\n",
        "4. Print the performance of the classifier using the VGG16 pre-trained model.\n",
        "5. Print the performance of the classifier using the ResNet pre-trained model.\n"
      ]
    },
    {
      "cell_type": "code",
      "metadata": {
        "id": "89m8hgaldAZZ",
        "colab_type": "code",
        "colab": {}
      },
      "source": [
        "#from google.colab import drive\n",
        "#drive.mount('/content/drive')"
      ],
      "execution_count": null,
      "outputs": []
    },
    {
      "cell_type": "markdown",
      "metadata": {
        "id": "_QI6Ek3t95Rn",
        "colab_type": "text"
      },
      "source": [
        "Use the following cells to evaluate your models."
      ]
    },
    {
      "cell_type": "markdown",
      "metadata": {
        "id": "R0-Br24TFgIj",
        "colab_type": "text"
      },
      "source": [
        "1.Load the resnet model"
      ]
    },
    {
      "cell_type": "code",
      "metadata": {
        "id": "S7oNkko495Rr",
        "colab_type": "code",
        "colab": {}
      },
      "source": [
        "from keras.models import load_model\n",
        "resnet_model=load_model('classifier_resnet_model.h5')\n",
        "vgg16_model=load_model('classifier_VGG16_model.h5')"
      ],
      "execution_count": null,
      "outputs": []
    },
    {
      "cell_type": "markdown",
      "metadata": {
        "id": "snG5cw7nFrGj",
        "colab_type": "text"
      },
      "source": [
        "2.Create ImageDatagenerator for test set"
      ]
    },
    {
      "cell_type": "code",
      "metadata": {
        "id": "wPAJTiD895Rw",
        "colab_type": "code",
        "colab": {}
      },
      "source": [
        "batch_size_test=100\n",
        "# create image data generator\n",
        "data_generator=ImageDataGenerator(processing_function=process_input,)"
      ],
      "execution_count": null,
      "outputs": []
    },
    {
      "cell_type": "code",
      "metadata": {
        "id": "RQ_HUWmv95Rz",
        "colab_type": "code",
        "colab": {}
      },
      "source": [
        "# test images\n",
        "test_generator = data_generator.flow_from_directory(\n",
        "    'concrete_data_week4/test',\n",
        "    target_size=(image_resize, image_resize),\n",
        "    batch_size=batch_size_test,\n",
        "    class_mode='categorical',\n",
        "    shuffle=False\n",
        ")"
      ],
      "execution_count": null,
      "outputs": []
    },
    {
      "cell_type": "markdown",
      "metadata": {
        "id": "KgilShJkF_lN",
        "colab_type": "text"
      },
      "source": [
        "3.4.Performance VGG16 with evaluate_generator\n"
      ]
    },
    {
      "cell_type": "code",
      "metadata": {
        "id": "vyqd_J5V95R3",
        "colab_type": "code",
        "colab": {}
      },
      "source": [
        "print(\"The Performance of vgg16 model : \")\n",
        "vgg=vgg16_model.evaluate_generator(test_gen)\n",
        "print(vgg)\n",
        "print(\"Loss : \",str(vgg[0]))\n",
        "print(\"The accuracy : \",str(vgg[1]))"
      ],
      "execution_count": null,
      "outputs": []
    },
    {
      "cell_type": "markdown",
      "metadata": {
        "id": "JybXL4JwGKAS",
        "colab_type": "text"
      },
      "source": [
        "3.5 Perfomance RESNET 50 with evaluate_generator"
      ]
    },
    {
      "cell_type": "code",
      "metadata": {
        "id": "LkfoAQTVGFGS",
        "colab_type": "code",
        "colab": {}
      },
      "source": [
        "print(\"The Performance of resnet50 model : \")\n",
        "resnet=resnet_model.evaluate_generator(test_gen)\n",
        "print(resnet)\n",
        "print(\"Loss :  \",str(resnet[0]))\n",
        "print(\"The accuracy : \",str(resnet[1]))"
      ],
      "execution_count": null,
      "outputs": []
    },
    {
      "cell_type": "markdown",
      "metadata": {
        "id": "4SJggs_S95R6",
        "colab_type": "text"
      },
      "source": [
        "   "
      ]
    },
    {
      "cell_type": "markdown",
      "metadata": {
        "id": "sEEVBbpM95R8",
        "colab_type": "text"
      },
      "source": [
        "<a id=\"item44\"></a>"
      ]
    },
    {
      "cell_type": "markdown",
      "metadata": {
        "id": "7DijNU9k95R8",
        "colab_type": "text"
      },
      "source": [
        "## Part 3"
      ]
    },
    {
      "cell_type": "markdown",
      "metadata": {
        "id": "1WFMVgva95R8",
        "colab_type": "text"
      },
      "source": [
        "In this model, you will predict whether the images in the test data are images of cracked concrete or not. You will do the following:\n",
        "\n",
        "1. Use the **predict_generator** method to predict the class of the images in the test data, by passing the test data ImageDataGenerator instance defined in the previous part as an argument. You can learn more about the **predict_generator** method [here](https://keras.io/models/sequential/).\n",
        "2. Report the class predictions of the first five images in the test set. You should print something list this:\n",
        "\n",
        "<center>\n",
        "    <ul style=\"list-style-type:none\">\n",
        "        <li>Positive</li>  \n",
        "        <li>Negative</li> \n",
        "        <li>Positive</li>\n",
        "        <li>Positive</li>\n",
        "        <li>Negative</li>\n",
        "    </ul>\n",
        "</center>"
      ]
    },
    {
      "cell_type": "markdown",
      "metadata": {
        "id": "54ZjT4Yb95R-",
        "colab_type": "text"
      },
      "source": [
        "Use the following cells to make your predictions."
      ]
    },
    {
      "cell_type": "markdown",
      "metadata": {
        "id": "LlzjO2nOGbVX",
        "colab_type": "text"
      },
      "source": [
        "1.Predict generator"
      ]
    },
    {
      "cell_type": "code",
      "metadata": {
        "id": "PJAQjlAy95R_",
        "colab_type": "code",
        "colab": {}
      },
      "source": [
        "vgg_predict =vgg16_model.predict_generator(test_gen)\n",
        "res_predict =resnet_model.predict_generator(test_gen)"
      ],
      "execution_count": null,
      "outputs": []
    },
    {
      "cell_type": "code",
      "metadata": {
        "id": "DGuJWpHp95SE",
        "colab_type": "code",
        "colab": {}
      },
      "source": [
        "def pred(x):\n",
        "    for i in x:\n",
        "        j=np.argmax(i)\n",
        "        if (j==0):\n",
        "            print('NEGATIVE')\n",
        "        else:\n",
        "            print('POSITIVE')"
      ],
      "execution_count": null,
      "outputs": []
    },
    {
      "cell_type": "markdown",
      "metadata": {
        "id": "qRw8FE11GsJT",
        "colab_type": "text"
      },
      "source": [
        "2.Report the class predictions of 5 images"
      ]
    },
    {
      "cell_type": "code",
      "metadata": {
        "id": "IvjLv3XZ95SI",
        "colab_type": "code",
        "colab": {}
      },
      "source": [
        "pred(res_predict[0:5])"
      ],
      "execution_count": null,
      "outputs": []
    },
    {
      "cell_type": "code",
      "metadata": {
        "id": "fNZ6XKT0Gv7L",
        "colab_type": "code",
        "colab": {}
      },
      "source": [
        "pred(vgg_predict[0:5])"
      ],
      "execution_count": null,
      "outputs": []
    },
    {
      "cell_type": "code",
      "metadata": {
        "id": "UFLVdClw95SL",
        "colab_type": "code",
        "colab": {}
      },
      "source": [
        "pred(test_generator.next()[1][0:5])"
      ],
      "execution_count": null,
      "outputs": []
    },
    {
      "cell_type": "markdown",
      "metadata": {
        "id": "R3q70b7695SR",
        "colab_type": "text"
      },
      "source": [
        "  "
      ]
    },
    {
      "cell_type": "markdown",
      "metadata": {
        "button": false,
        "deletable": true,
        "new_sheet": false,
        "run_control": {
          "read_only": false
        },
        "id": "eBNWmHts95SR",
        "colab_type": "text"
      },
      "source": [
        "### Thank you for completing this lab!\n",
        "\n",
        "This notebook was created by Alex Aklson."
      ]
    },
    {
      "cell_type": "markdown",
      "metadata": {
        "button": false,
        "deletable": true,
        "new_sheet": false,
        "run_control": {
          "read_only": false
        },
        "id": "RBPxCdM195ST",
        "colab_type": "text"
      },
      "source": [
        "This notebook is part of a course on **Coursera** called *AI Capstone Project with Deep Learning*. If you accessed this notebook outside the course, you can take this course online by clicking [here](https://cocl.us/DL0321EN_Coursera_Week4_LAB1)."
      ]
    },
    {
      "cell_type": "markdown",
      "metadata": {
        "button": false,
        "deletable": true,
        "new_sheet": false,
        "run_control": {
          "read_only": false
        },
        "id": "G0L58b_e95ST",
        "colab_type": "text"
      },
      "source": [
        "<hr>\n",
        "\n",
        "Copyright &copy; 2020 [IBM Developer Skills Network](https://cognitiveclass.ai/?utm_source=bducopyrightlink&utm_medium=dswb&utm_campaign=bdu). This notebook and its source code are released under the terms of the [MIT License](https://bigdatauniversity.com/mit-license/)."
      ]
    }
  ]
}